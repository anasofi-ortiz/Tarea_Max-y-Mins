{
 "cells": [
  {
   "cell_type": "code",
   "execution_count": 3,
   "metadata": {},
   "outputs": [
    {
     "name": "stdout",
     "output_type": "stream",
     "text": [
      "f(x) =  x**4 + x**3 + x\n",
      "f'(x) =  4*x**3 + 3*x**2 + 1\n",
      "f''(x) =  12*x**2 + 6*x\n"
     ]
    },
    {
     "data": {
      "image/png": "[encoded data removed]",
      "text/plain": [
       "<Figure size 432x288 with 1 Axes>"
      ]
     },
     "metadata": {
      "needs_background": "light"
     },
     "output_type": "display_data"
    },
    {
     "name": "stdout",
     "output_type": "stream",
     "text": [
      "Valores críticos:  [-1]\n",
      "Puntos criticos:  [-1.0]\n",
      "Criterio de 2da derivada:  [6.0]\n",
      "Maximo o mínimo?:  ['Mínimo']\n"
     ]
    }
   ],
   "source": [
    "import numpy as np\n",
    "import sympy as sym\n",
    "import matplotlib.pyplot as plt\n",
    "sym.var('x', real = True)\n",
    "fx = x**4 + x**3 + x\n",
    "print(\"f(x) = \",fx)\n",
    "fxprima = sym.diff(fx, x)\n",
    "print(\"f'(x) = \" , fxprima)\n",
    "fx2prima = sym.diff(fxprima, x)\n",
    "print(\"f''(x) = \", fx2prima)\n",
    "\n",
    "fxnum = sym.lambdify([x], fx, 'numpy')\n",
    "fxprimanum = sym.lambdify([x], fxprima, 'numpy')\n",
    "fx2primanum = sym.lambdify([x], fx2prima, 'numpy')\n",
    "xvector = np.linspace(-2, 2, 1000)\n",
    "\n",
    "plt.plot(xvector, fxnum(xvector))\n",
    "plt.xlabel('$Eje x$')\n",
    "plt.ylabel('$Eje y$')\n",
    "plt.grid()\n",
    "plt.show()\n",
    "\n",
    "valores = sym.solve(fxprima, x)\n",
    "print(\"Valores críticos: \", valores)\n",
    "evaluaciones = []\n",
    "for i in valores:\n",
    "    #eva = sym.solve(fx, i)\n",
    "    eva= fxnum(i)\n",
    "    evaluaciones.append(float(eva))\n",
    "print(\"Puntos criticos: \",evaluaciones)\n",
    "evaluaciones2 = []\n",
    "eva3 = []\n",
    "for i in valores:\n",
    "    #eva = sym.solve(fx, i)\n",
    "    eva2= fx2primanum(i)\n",
    "    evaluaciones2.append(float(eva2))\n",
    "print(\"Criterio de 2da derivada: \", evaluaciones2)\n",
    "for e in evaluaciones2:\n",
    "    if e > 0:\n",
    "        eva3.append(\"Mínimo\")\n",
    "    if e < 0:\n",
    "        eva3.append(\"Máximo\")\n",
    "print(\"Maximo o mínimo?: \",eva3)"
   ]
  },
  {
   "cell_type": "code",
   "execution_count": null,
   "metadata": {},
   "outputs": [],
   "source": []
  }
 ],
 "metadata": {
  "kernelspec": {
   "display_name": "Python 3",
   "language": "python",
   "name": "python3"
  },
  "language_info": {
   "codemirror_mode": {
    "name": "ipython",
    "version": 3
   },
   "file_extension": ".py",
   "mimetype": "text/x-python",
   "name": "python",
   "nbconvert_exporter": "python",
   "pygments_lexer": "ipython3",
   "version": "3.7.3"
  }
 },
 "nbformat": 4,
 "nbformat_minor": 2
}
